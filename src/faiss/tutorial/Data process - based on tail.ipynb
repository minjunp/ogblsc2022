{
 "cells": [
  {
   "cell_type": "code",
   "execution_count": 1,
   "id": "4cad4ff6",
   "metadata": {},
   "outputs": [],
   "source": [
    "import numpy as np\n",
    "import pandas as pd\n",
    "from ogb.lsc import WikiKG90Mv2Dataset\n",
    "import sys\n",
    "import os"
   ]
  },
  {
   "cell_type": "code",
   "execution_count": 2,
   "id": "ed93de1c",
   "metadata": {},
   "outputs": [],
   "source": [
    "rootdir = '/db2/users/minjunpark/ogb/rawdata'\n",
    "dataset = WikiKG90Mv2Dataset(root=str(rootdir))"
   ]
  },
  {
   "cell_type": "code",
   "execution_count": 3,
   "id": "0d767df8",
   "metadata": {},
   "outputs": [
    {
     "name": "stdout",
     "output_type": "stream",
     "text": [
      "91230610\n",
      "1387\n",
      "768\n"
     ]
    }
   ],
   "source": [
    "print(dataset.num_entities) # number of entities -- > 91230610\n",
    "print(dataset.num_relations) # number of relation types --> 1387\n",
    "print(dataset.num_feat_dims) # dimensionality of entity/relation features.\n",
    "\n",
    "entity_feat = dataset.entity_feat # np.array of shape (91230610, 768)"
   ]
  },
  {
   "cell_type": "code",
   "execution_count": 4,
   "id": "383e5111",
   "metadata": {},
   "outputs": [],
   "source": [
    "# Validation and testing\n",
    "valid_task = dataset.valid_dict['h,r->t'] # get a dictionary storing the h,r->t task.\n",
    "hr = valid_task['hr']\n",
    "t = valid_task['t']\n",
    "\n",
    "testdev_task = dataset.test_dict(mode = 'test-dev')['h,r->t'] # get a dictionary storing the h,r->t task.\n",
    "hr = testdev_task['hr']"
   ]
  },
  {
   "cell_type": "code",
   "execution_count": 5,
   "id": "3bc3b51c",
   "metadata": {},
   "outputs": [
    {
     "data": {
      "text/plain": [
       "array([[42203917,      818],\n",
       "       [52193345,       73],\n",
       "       [19804008,      480],\n",
       "       ...,\n",
       "       [23350374,       18],\n",
       "       [17369640,      388],\n",
       "       [37290774,      997]])"
      ]
     },
     "execution_count": 5,
     "metadata": {},
     "output_type": "execute_result"
    }
   ],
   "source": [
    "dataset.test_dict(mode = 'test-challenge')['h,r->t']['hr']"
   ]
  },
  {
   "cell_type": "code",
   "execution_count": 5,
   "id": "82cbf178",
   "metadata": {},
   "outputs": [
    {
     "data": {
      "text/plain": [
       "array([42203917, 52193345, 19804008, ..., 23350374, 17369640, 37290774])"
      ]
     },
     "execution_count": 5,
     "metadata": {},
     "output_type": "execute_result"
    }
   ],
   "source": [
    "dataset.test_dict(mode = 'test-challenge')['h,r->t']['hr'][:,0]"
   ]
  },
  {
   "cell_type": "code",
   "execution_count": 6,
   "id": "6d4be86b",
   "metadata": {},
   "outputs": [],
   "source": [
    "# Look from the perspective of tail"
   ]
  },
  {
   "cell_type": "code",
   "execution_count": 7,
   "id": "b7ea25a8",
   "metadata": {},
   "outputs": [],
   "source": [
    "valid_task = dataset.valid_dict['h,r->t'] # get a dictionary storing the h,r->t task.\n",
    "hr = valid_task['hr']\n",
    "t = valid_task['t']"
   ]
  },
  {
   "cell_type": "code",
   "execution_count": 8,
   "id": "10e288c8",
   "metadata": {},
   "outputs": [],
   "source": [
    "train_task = dataset.train_hrt"
   ]
  },
  {
   "cell_type": "code",
   "execution_count": 9,
   "id": "0a179beb",
   "metadata": {},
   "outputs": [
    {
     "data": {
      "text/html": [
       "<div>\n",
       "<style scoped>\n",
       "    .dataframe tbody tr th:only-of-type {\n",
       "        vertical-align: middle;\n",
       "    }\n",
       "\n",
       "    .dataframe tbody tr th {\n",
       "        vertical-align: top;\n",
       "    }\n",
       "\n",
       "    .dataframe thead th {\n",
       "        text-align: right;\n",
       "    }\n",
       "</style>\n",
       "<table border=\"1\" class=\"dataframe\">\n",
       "  <thead>\n",
       "    <tr style=\"text-align: right;\">\n",
       "      <th></th>\n",
       "      <th>Head</th>\n",
       "      <th>Relation</th>\n",
       "      <th>Tail</th>\n",
       "    </tr>\n",
       "  </thead>\n",
       "  <tbody>\n",
       "    <tr>\n",
       "      <th>0</th>\n",
       "      <td>0</td>\n",
       "      <td>167</td>\n",
       "      <td>2648053</td>\n",
       "    </tr>\n",
       "    <tr>\n",
       "      <th>1</th>\n",
       "      <td>0</td>\n",
       "      <td>758</td>\n",
       "      <td>4103231</td>\n",
       "    </tr>\n",
       "    <tr>\n",
       "      <th>2</th>\n",
       "      <td>0</td>\n",
       "      <td>1336</td>\n",
       "      <td>4362459</td>\n",
       "    </tr>\n",
       "    <tr>\n",
       "      <th>3</th>\n",
       "      <td>0</td>\n",
       "      <td>1188</td>\n",
       "      <td>4507475</td>\n",
       "    </tr>\n",
       "    <tr>\n",
       "      <th>4</th>\n",
       "      <td>0</td>\n",
       "      <td>1188</td>\n",
       "      <td>4507661</td>\n",
       "    </tr>\n",
       "    <tr>\n",
       "      <th>...</th>\n",
       "      <td>...</td>\n",
       "      <td>...</td>\n",
       "      <td>...</td>\n",
       "    </tr>\n",
       "    <tr>\n",
       "      <th>601062806</th>\n",
       "      <td>91230609</td>\n",
       "      <td>879</td>\n",
       "      <td>5002505</td>\n",
       "    </tr>\n",
       "    <tr>\n",
       "      <th>601062807</th>\n",
       "      <td>91230609</td>\n",
       "      <td>534</td>\n",
       "      <td>9183678</td>\n",
       "    </tr>\n",
       "    <tr>\n",
       "      <th>601062808</th>\n",
       "      <td>91230609</td>\n",
       "      <td>215</td>\n",
       "      <td>9684464</td>\n",
       "    </tr>\n",
       "    <tr>\n",
       "      <th>601062809</th>\n",
       "      <td>91230609</td>\n",
       "      <td>879</td>\n",
       "      <td>50127613</td>\n",
       "    </tr>\n",
       "    <tr>\n",
       "      <th>601062810</th>\n",
       "      <td>91230609</td>\n",
       "      <td>88</td>\n",
       "      <td>54649237</td>\n",
       "    </tr>\n",
       "  </tbody>\n",
       "</table>\n",
       "<p>601062811 rows × 3 columns</p>\n",
       "</div>"
      ],
      "text/plain": [
       "               Head  Relation      Tail\n",
       "0                 0       167   2648053\n",
       "1                 0       758   4103231\n",
       "2                 0      1336   4362459\n",
       "3                 0      1188   4507475\n",
       "4                 0      1188   4507661\n",
       "...             ...       ...       ...\n",
       "601062806  91230609       879   5002505\n",
       "601062807  91230609       534   9183678\n",
       "601062808  91230609       215   9684464\n",
       "601062809  91230609       879  50127613\n",
       "601062810  91230609        88  54649237\n",
       "\n",
       "[601062811 rows x 3 columns]"
      ]
     },
     "execution_count": 9,
     "metadata": {},
     "output_type": "execute_result"
    }
   ],
   "source": [
    "df = pd.DataFrame(train_task, columns=['Head', 'Relation', 'Tail'])\n",
    "df"
   ]
  },
  {
   "cell_type": "code",
   "execution_count": 10,
   "id": "fd8fe3c2",
   "metadata": {},
   "outputs": [
    {
     "data": {
      "text/html": [
       "<div>\n",
       "<style scoped>\n",
       "    .dataframe tbody tr th:only-of-type {\n",
       "        vertical-align: middle;\n",
       "    }\n",
       "\n",
       "    .dataframe tbody tr th {\n",
       "        vertical-align: top;\n",
       "    }\n",
       "\n",
       "    .dataframe thead th {\n",
       "        text-align: right;\n",
       "    }\n",
       "</style>\n",
       "<table border=\"1\" class=\"dataframe\">\n",
       "  <thead>\n",
       "    <tr style=\"text-align: right;\">\n",
       "      <th></th>\n",
       "      <th>Head</th>\n",
       "      <th>Relation</th>\n",
       "      <th>Tail</th>\n",
       "    </tr>\n",
       "  </thead>\n",
       "  <tbody>\n",
       "    <tr>\n",
       "      <th>0</th>\n",
       "      <td>0</td>\n",
       "      <td>167</td>\n",
       "      <td>2648053</td>\n",
       "    </tr>\n",
       "    <tr>\n",
       "      <th>1</th>\n",
       "      <td>0</td>\n",
       "      <td>758</td>\n",
       "      <td>4103231</td>\n",
       "    </tr>\n",
       "    <tr>\n",
       "      <th>2</th>\n",
       "      <td>0</td>\n",
       "      <td>1336</td>\n",
       "      <td>4362459</td>\n",
       "    </tr>\n",
       "    <tr>\n",
       "      <th>3</th>\n",
       "      <td>0</td>\n",
       "      <td>1188</td>\n",
       "      <td>4507475</td>\n",
       "    </tr>\n",
       "    <tr>\n",
       "      <th>4</th>\n",
       "      <td>0</td>\n",
       "      <td>1188</td>\n",
       "      <td>4507661</td>\n",
       "    </tr>\n",
       "  </tbody>\n",
       "</table>\n",
       "</div>"
      ],
      "text/plain": [
       "   Head  Relation     Tail\n",
       "0     0       167  2648053\n",
       "1     0       758  4103231\n",
       "2     0      1336  4362459\n",
       "3     0      1188  4507475\n",
       "4     0      1188  4507661"
      ]
     },
     "execution_count": 10,
     "metadata": {},
     "output_type": "execute_result"
    }
   ],
   "source": [
    "df2 = df[df.Head==0]\n",
    "df2.head()"
   ]
  },
  {
   "cell_type": "code",
   "execution_count": 11,
   "id": "f45cb8ac",
   "metadata": {
    "scrolled": true
   },
   "outputs": [
    {
     "data": {
      "text/plain": [
       "14271585    2\n",
       "23719580    2\n",
       "2648053     1\n",
       "46174861    1\n",
       "19162448    1\n",
       "20384735    1\n",
       "25098003    1\n",
       "26275985    1\n",
       "28376155    1\n",
       "46194152    1\n",
       "17180947    1\n",
       "51527433    1\n",
       "51711289    1\n",
       "54417003    1\n",
       "61286324    1\n",
       "71734062    1\n",
       "75798892    1\n",
       "80906364    1\n",
       "18935886    1\n",
       "15031472    1\n",
       "4103231     1\n",
       "6301083     1\n",
       "4362459     1\n",
       "4507475     1\n",
       "4507661     1\n",
       "4848582     1\n",
       "4913680     1\n",
       "5495024     1\n",
       "6569077     1\n",
       "13254045    1\n",
       "9749921     1\n",
       "10836978    1\n",
       "11021407    1\n",
       "11603051    1\n",
       "12706508    1\n",
       "12788458    1\n",
       "84998900    1\n",
       "Name: Tail, dtype: int64"
      ]
     },
     "execution_count": 11,
     "metadata": {},
     "output_type": "execute_result"
    }
   ],
   "source": [
    "df2.Tail.value_counts()"
   ]
  },
  {
   "cell_type": "markdown",
   "id": "33b1455d",
   "metadata": {},
   "source": [
    "## case 1: remove duplicates & only consider the first case"
   ]
  },
  {
   "cell_type": "code",
   "execution_count": 12,
   "id": "46fb21cb",
   "metadata": {},
   "outputs": [
    {
     "data": {
      "text/html": [
       "<div>\n",
       "<style scoped>\n",
       "    .dataframe tbody tr th:only-of-type {\n",
       "        vertical-align: middle;\n",
       "    }\n",
       "\n",
       "    .dataframe tbody tr th {\n",
       "        vertical-align: top;\n",
       "    }\n",
       "\n",
       "    .dataframe thead th {\n",
       "        text-align: right;\n",
       "    }\n",
       "</style>\n",
       "<table border=\"1\" class=\"dataframe\">\n",
       "  <thead>\n",
       "    <tr style=\"text-align: right;\">\n",
       "      <th></th>\n",
       "      <th>Head</th>\n",
       "      <th>Relation</th>\n",
       "      <th>Tail</th>\n",
       "    </tr>\n",
       "  </thead>\n",
       "  <tbody>\n",
       "    <tr>\n",
       "      <th>0</th>\n",
       "      <td>0</td>\n",
       "      <td>167</td>\n",
       "      <td>2648053</td>\n",
       "    </tr>\n",
       "    <tr>\n",
       "      <th>1</th>\n",
       "      <td>1</td>\n",
       "      <td>1296</td>\n",
       "      <td>539765</td>\n",
       "    </tr>\n",
       "    <tr>\n",
       "      <th>2</th>\n",
       "      <td>2</td>\n",
       "      <td>215</td>\n",
       "      <td>2</td>\n",
       "    </tr>\n",
       "    <tr>\n",
       "      <th>3</th>\n",
       "      <td>3</td>\n",
       "      <td>534</td>\n",
       "      <td>4571655</td>\n",
       "    </tr>\n",
       "    <tr>\n",
       "      <th>4</th>\n",
       "      <td>4</td>\n",
       "      <td>88</td>\n",
       "      <td>8956884</td>\n",
       "    </tr>\n",
       "    <tr>\n",
       "      <th>...</th>\n",
       "      <td>...</td>\n",
       "      <td>...</td>\n",
       "      <td>...</td>\n",
       "    </tr>\n",
       "    <tr>\n",
       "      <th>91197927</th>\n",
       "      <td>91230605</td>\n",
       "      <td>1125</td>\n",
       "      <td>6005191</td>\n",
       "    </tr>\n",
       "    <tr>\n",
       "      <th>91197928</th>\n",
       "      <td>91230606</td>\n",
       "      <td>88</td>\n",
       "      <td>25700305</td>\n",
       "    </tr>\n",
       "    <tr>\n",
       "      <th>91197929</th>\n",
       "      <td>91230607</td>\n",
       "      <td>818</td>\n",
       "      <td>2188720</td>\n",
       "    </tr>\n",
       "    <tr>\n",
       "      <th>91197930</th>\n",
       "      <td>91230608</td>\n",
       "      <td>1347</td>\n",
       "      <td>2666612</td>\n",
       "    </tr>\n",
       "    <tr>\n",
       "      <th>91197931</th>\n",
       "      <td>91230609</td>\n",
       "      <td>879</td>\n",
       "      <td>5002505</td>\n",
       "    </tr>\n",
       "  </tbody>\n",
       "</table>\n",
       "<p>91197932 rows × 3 columns</p>\n",
       "</div>"
      ],
      "text/plain": [
       "              Head  Relation      Tail\n",
       "0                0       167   2648053\n",
       "1                1      1296    539765\n",
       "2                2       215         2\n",
       "3                3       534   4571655\n",
       "4                4        88   8956884\n",
       "...            ...       ...       ...\n",
       "91197927  91230605      1125   6005191\n",
       "91197928  91230606        88  25700305\n",
       "91197929  91230607       818   2188720\n",
       "91197930  91230608      1347   2666612\n",
       "91197931  91230609       879   5002505\n",
       "\n",
       "[91197932 rows x 3 columns]"
      ]
     },
     "execution_count": 12,
     "metadata": {},
     "output_type": "execute_result"
    }
   ],
   "source": [
    "df_uniq = df.drop_duplicates(subset='Head').reset_index(drop=True)\n",
    "df_uniq"
   ]
  },
  {
   "cell_type": "code",
   "execution_count": 13,
   "id": "6a422d5b",
   "metadata": {},
   "outputs": [
    {
     "data": {
      "text/plain": [
       "array([[68027985,      943],\n",
       "       [78805001,      934],\n",
       "       [ 3742264,        8],\n",
       "       ...,\n",
       "       [77901263,      480],\n",
       "       [68077338,      672],\n",
       "       [45944824,      815]])"
      ]
     },
     "execution_count": 13,
     "metadata": {},
     "output_type": "execute_result"
    }
   ],
   "source": [
    "valid_task = dataset.valid_dict['h,r->t'] # get a dictionary storing the h,r->t task.\n",
    "hr = valid_task['hr']\n",
    "t = valid_task['t']\n",
    "\n",
    "hr"
   ]
  },
  {
   "cell_type": "code",
   "execution_count": 14,
   "id": "3bb11cb9",
   "metadata": {},
   "outputs": [],
   "source": [
    "dic = dataset.valid_dict['h,r->t'] # get a dictionary storing the h,r->t task.\n",
    "hr = dic['hr']\n",
    "h = hr[:,0]"
   ]
  },
  {
   "cell_type": "code",
   "execution_count": 16,
   "id": "65588d0e",
   "metadata": {},
   "outputs": [
    {
     "data": {
      "text/plain": [
       "8899443"
      ]
     },
     "execution_count": 16,
     "metadata": {},
     "output_type": "execute_result"
    }
   ],
   "source": [
    "df_uniq[df_uniq.Head==h[0]].Tail.tolist()[0]"
   ]
  },
  {
   "cell_type": "code",
   "execution_count": 21,
   "id": "6c5a59dc",
   "metadata": {},
   "outputs": [
    {
     "data": {
      "text/plain": [
       "array([ 8899443, 31774728, 42069230, 24338794,  4923899,  4923899,\n",
       "        5370583,  8816900, 10642117,  5164798,  8451235,  7484636,\n",
       "       42069230,  5518483,  9302442,  5319741,  7026824,  4923899,\n",
       "       11217693,  6393284, 80249390,  4962138,  5055239,  4687586,\n",
       "        8656361,  3174575,  9747495,   591529,  2086047,  6214131,\n",
       "       13569667,  6393284, 37422588,  6393284,  3730347, 10660130,\n",
       "        3598573,  4531709,  6134788,  6393284,  8651498,  5968685,\n",
       "        7175094, 12667311,  6223683,  6739325,  5319741, 29696674,\n",
       "        1866570, 33464694, 16930221,  1491280,  9294723,  5547405,\n",
       "        7357331, 21626711,  4608354, 42069230, 10737551, 30581974,\n",
       "       41815441,  5012695,  7672562,  4943914,  9792914,  1491280,\n",
       "        8816900, 10016963,  2417138,  4548405,  1572964,  5820110,\n",
       "        6393284, 11050852,  9804464, 12929065,  8816900,  7023434,\n",
       "        7996271,  3174574,   227282,  5997237,  4274068,  1338135,\n",
       "        6188353,  5542154, 11050852,  1303423,  1799039,  6393284,\n",
       "        6370651, 11948391,  4923899,  1449751,  1491280,  9608757,\n",
       "        4390878,  4855669, 11333085,  7484636,  1107960,  7575257,\n",
       "        6393284,  1601197,  4386319, 46524950,  1574673, 10642117,\n",
       "        4662628,  6393284,  4788328,  4923899, 42069230, 11614555,\n",
       "       35054834,  6082272,  6508845, 11948391,  8265180, 10063033])"
      ]
     },
     "execution_count": 21,
     "metadata": {},
     "output_type": "execute_result"
    }
   ],
   "source": [
    "np.array([df_uniq[df_uniq.Head==i].Tail.tolist()[0] for i in h2[0:120]])"
   ]
  }
 ],
 "metadata": {
  "kernelspec": {
   "display_name": "Python 3 (ipykernel)",
   "language": "python",
   "name": "python3"
  },
  "language_info": {
   "codemirror_mode": {
    "name": "ipython",
    "version": 3
   },
   "file_extension": ".py",
   "mimetype": "text/x-python",
   "name": "python",
   "nbconvert_exporter": "python",
   "pygments_lexer": "ipython3",
   "version": "3.7.13"
  }
 },
 "nbformat": 4,
 "nbformat_minor": 5
}
